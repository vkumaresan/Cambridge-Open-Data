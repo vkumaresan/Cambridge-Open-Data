{
 "cells": [
  {
   "cell_type": "markdown",
   "metadata": {},
   "source": [
    "# Weather in Durham: 2007-2018\n",
    "### Data Source: https://www.ncdc.noaa.gov/cdo-web/"
   ]
  },
  {
   "cell_type": "code",
   "execution_count": 71,
   "metadata": {},
   "outputs": [],
   "source": [
    "# Import packages\n",
    "import pandas as pd\n",
    "import numpy as np\n",
    "import matplotlib.pyplot as plt\n",
    "import seaborn as sns"
   ]
  },
  {
   "cell_type": "code",
   "execution_count": 6,
   "metadata": {},
   "outputs": [],
   "source": [
    "# Import weather data\n",
    "weather = pd.read_csv('1461194.csv', header = 0)"
   ]
  },
  {
   "cell_type": "code",
   "execution_count": 7,
   "metadata": {},
   "outputs": [
    {
     "data": {
      "text/html": [
       "<div>\n",
       "<style scoped>\n",
       "    .dataframe tbody tr th:only-of-type {\n",
       "        vertical-align: middle;\n",
       "    }\n",
       "\n",
       "    .dataframe tbody tr th {\n",
       "        vertical-align: top;\n",
       "    }\n",
       "\n",
       "    .dataframe thead th {\n",
       "        text-align: right;\n",
       "    }\n",
       "</style>\n",
       "<table border=\"1\" class=\"dataframe\">\n",
       "  <thead>\n",
       "    <tr style=\"text-align: right;\">\n",
       "      <th></th>\n",
       "      <th>STATION</th>\n",
       "      <th>NAME</th>\n",
       "      <th>LATITUDE</th>\n",
       "      <th>LONGITUDE</th>\n",
       "      <th>ELEVATION</th>\n",
       "      <th>DATE</th>\n",
       "      <th>PRCP</th>\n",
       "      <th>PRCP_ATTRIBUTES</th>\n",
       "      <th>TMAX</th>\n",
       "      <th>TMAX_ATTRIBUTES</th>\n",
       "      <th>TMIN</th>\n",
       "      <th>TMIN_ATTRIBUTES</th>\n",
       "    </tr>\n",
       "  </thead>\n",
       "  <tbody>\n",
       "    <tr>\n",
       "      <th>0</th>\n",
       "      <td>USW00003758</td>\n",
       "      <td>DURHAM 11 W, NC US</td>\n",
       "      <td>35.9705</td>\n",
       "      <td>-79.0931</td>\n",
       "      <td>171.3</td>\n",
       "      <td>2007-03-30</td>\n",
       "      <td>0.00</td>\n",
       "      <td>,,R</td>\n",
       "      <td>67.0</td>\n",
       "      <td>,,R</td>\n",
       "      <td>33.0</td>\n",
       "      <td>,,R</td>\n",
       "    </tr>\n",
       "    <tr>\n",
       "      <th>1</th>\n",
       "      <td>USW00003758</td>\n",
       "      <td>DURHAM 11 W, NC US</td>\n",
       "      <td>35.9705</td>\n",
       "      <td>-79.0931</td>\n",
       "      <td>171.3</td>\n",
       "      <td>2007-03-31</td>\n",
       "      <td>0.00</td>\n",
       "      <td>,,R</td>\n",
       "      <td>76.0</td>\n",
       "      <td>,,R</td>\n",
       "      <td>44.0</td>\n",
       "      <td>,,R</td>\n",
       "    </tr>\n",
       "    <tr>\n",
       "      <th>2</th>\n",
       "      <td>USW00003758</td>\n",
       "      <td>DURHAM 11 W, NC US</td>\n",
       "      <td>35.9705</td>\n",
       "      <td>-79.0931</td>\n",
       "      <td>171.3</td>\n",
       "      <td>2007-04-01</td>\n",
       "      <td>0.07</td>\n",
       "      <td>,,R</td>\n",
       "      <td>74.0</td>\n",
       "      <td>,,R</td>\n",
       "      <td>60.0</td>\n",
       "      <td>,,R</td>\n",
       "    </tr>\n",
       "    <tr>\n",
       "      <th>3</th>\n",
       "      <td>USW00003758</td>\n",
       "      <td>DURHAM 11 W, NC US</td>\n",
       "      <td>35.9705</td>\n",
       "      <td>-79.0931</td>\n",
       "      <td>171.3</td>\n",
       "      <td>2007-04-02</td>\n",
       "      <td>0.00</td>\n",
       "      <td>,,R</td>\n",
       "      <td>80.0</td>\n",
       "      <td>,,R</td>\n",
       "      <td>59.0</td>\n",
       "      <td>,,R</td>\n",
       "    </tr>\n",
       "    <tr>\n",
       "      <th>4</th>\n",
       "      <td>USW00003758</td>\n",
       "      <td>DURHAM 11 W, NC US</td>\n",
       "      <td>35.9705</td>\n",
       "      <td>-79.0931</td>\n",
       "      <td>171.3</td>\n",
       "      <td>2007-04-03</td>\n",
       "      <td>0.00</td>\n",
       "      <td>,,R</td>\n",
       "      <td>83.0</td>\n",
       "      <td>,,R</td>\n",
       "      <td>49.0</td>\n",
       "      <td>,,R</td>\n",
       "    </tr>\n",
       "  </tbody>\n",
       "</table>\n",
       "</div>"
      ],
      "text/plain": [
       "       STATION                NAME  LATITUDE  LONGITUDE  ELEVATION  \\\n",
       "0  USW00003758  DURHAM 11 W, NC US   35.9705   -79.0931      171.3   \n",
       "1  USW00003758  DURHAM 11 W, NC US   35.9705   -79.0931      171.3   \n",
       "2  USW00003758  DURHAM 11 W, NC US   35.9705   -79.0931      171.3   \n",
       "3  USW00003758  DURHAM 11 W, NC US   35.9705   -79.0931      171.3   \n",
       "4  USW00003758  DURHAM 11 W, NC US   35.9705   -79.0931      171.3   \n",
       "\n",
       "         DATE  PRCP PRCP_ATTRIBUTES  TMAX TMAX_ATTRIBUTES  TMIN  \\\n",
       "0  2007-03-30  0.00             ,,R  67.0             ,,R  33.0   \n",
       "1  2007-03-31  0.00             ,,R  76.0             ,,R  44.0   \n",
       "2  2007-04-01  0.07             ,,R  74.0             ,,R  60.0   \n",
       "3  2007-04-02  0.00             ,,R  80.0             ,,R  59.0   \n",
       "4  2007-04-03  0.00             ,,R  83.0             ,,R  49.0   \n",
       "\n",
       "  TMIN_ATTRIBUTES  \n",
       "0             ,,R  \n",
       "1             ,,R  \n",
       "2             ,,R  \n",
       "3             ,,R  \n",
       "4             ,,R  "
      ]
     },
     "execution_count": 7,
     "metadata": {},
     "output_type": "execute_result"
    }
   ],
   "source": [
    "weather.head()"
   ]
  },
  {
   "cell_type": "code",
   "execution_count": 8,
   "metadata": {},
   "outputs": [
    {
     "data": {
      "text/plain": [
       "(4160, 12)"
      ]
     },
     "execution_count": 8,
     "metadata": {},
     "output_type": "execute_result"
    }
   ],
   "source": [
    "weather.shape"
   ]
  },
  {
   "cell_type": "markdown",
   "metadata": {},
   "source": [
    "# Exploratory Analysis"
   ]
  },
  {
   "cell_type": "code",
   "execution_count": 43,
   "metadata": {},
   "outputs": [
    {
     "data": {
      "image/png": "[encoded data removed]",
      "text/plain": [
       "<matplotlib.figure.Figure at 0x1a1a7d4eb8>"
      ]
     },
     "metadata": {},
     "output_type": "display_data"
    }
   ],
   "source": [
    "# Distribution of Temperatures: Min and Max\n",
    "\n",
    "with sns.axes_style('white'):\n",
    "    g = sns.factorplot(\"TMAX\", data=weather, aspect=2, kind=\"count\", color='steelblue')\n",
    "    g.set(xlabel='Max Temperature (°F)', ylabel='Count (Days)', title = 'Maximum Temperature Distribution in Durham: 2007-2018')\n",
    "    g.set_xticklabels(step=5)"
   ]
  },
  {
   "cell_type": "code",
   "execution_count": 44,
   "metadata": {},
   "outputs": [],
   "source": [
    "g.savefig('tmax.png')"
   ]
  },
  {
   "cell_type": "code",
   "execution_count": 35,
   "metadata": {},
   "outputs": [
    {
     "data": {
      "text/plain": [
       "87.0     134\n",
       "83.0     133\n",
       "85.0     129\n",
       "89.0     126\n",
       "86.0     123\n",
       "84.0     119\n",
       "81.0     107\n",
       "88.0     104\n",
       "65.0      95\n",
       "72.0      94\n",
       "90.0      94\n",
       "82.0      94\n",
       "71.0      93\n",
       "76.0      93\n",
       "80.0      90\n",
       "77.0      89\n",
       "64.0      88\n",
       "78.0      85\n",
       "74.0      84\n",
       "79.0      82\n",
       "58.0      80\n",
       "69.0      78\n",
       "62.0      77\n",
       "92.0      75\n",
       "73.0      75\n",
       "67.0      73\n",
       "75.0      71\n",
       "70.0      71\n",
       "91.0      69\n",
       "51.0      67\n",
       "        ... \n",
       "47.0      34\n",
       "41.0      32\n",
       "40.0      30\n",
       "43.0      28\n",
       "42.0      28\n",
       "96.0      23\n",
       "35.0      19\n",
       "36.0      18\n",
       "39.0      17\n",
       "95.0      16\n",
       "33.0      14\n",
       "38.0      12\n",
       "37.0      10\n",
       "31.0      10\n",
       "98.0      10\n",
       "32.0       8\n",
       "29.0       7\n",
       "97.0       7\n",
       "34.0       6\n",
       "26.0       5\n",
       "99.0       4\n",
       "25.0       4\n",
       "100.0      4\n",
       "27.0       3\n",
       "28.0       3\n",
       "30.0       2\n",
       "101.0      2\n",
       "21.0       1\n",
       "23.0       1\n",
       "103.0      1\n",
       "Name: TMAX, Length: 80, dtype: int64"
      ]
     },
     "execution_count": 35,
     "metadata": {},
     "output_type": "execute_result"
    }
   ],
   "source": [
    "weather['TMAX'].value_counts()"
   ]
  },
  {
   "cell_type": "code",
   "execution_count": 47,
   "metadata": {},
   "outputs": [
    {
     "data": {
      "text/plain": [
       "103.0"
      ]
     },
     "execution_count": 47,
     "metadata": {},
     "output_type": "execute_result"
    }
   ],
   "source": [
    "weather['TMAX'].max()"
   ]
  },
  {
   "cell_type": "code",
   "execution_count": 45,
   "metadata": {},
   "outputs": [
    {
     "data": {
      "image/png": "[encoded data removed]",
      "text/plain": [
       "<matplotlib.figure.Figure at 0x1a1bf0db38>"
      ]
     },
     "metadata": {},
     "output_type": "display_data"
    }
   ],
   "source": [
    "with sns.axes_style('white'):\n",
    "    h = sns.factorplot(\"TMIN\", data=weather, aspect=2, kind=\"count\", color='steelblue')\n",
    "    h.set(xlabel='Min Temperature(°F)', ylabel='Count (Days)', title = 'Minimum Temperature Distribution in Durham: 2007-2018')\n",
    "    h.set_xticklabels(step=5)"
   ]
  },
  {
   "cell_type": "code",
   "execution_count": 46,
   "metadata": {},
   "outputs": [],
   "source": [
    "h.savefig('tmin.png')"
   ]
  },
  {
   "cell_type": "code",
   "execution_count": 36,
   "metadata": {},
   "outputs": [
    {
     "data": {
      "text/plain": [
       "67.0    143\n",
       "69.0    138\n",
       "60.0    120\n",
       "64.0    114\n",
       "63.0    113\n",
       "65.0    111\n",
       "70.0    108\n",
       "71.0    108\n",
       "68.0    104\n",
       "62.0    102\n",
       "66.0    100\n",
       "29.0     89\n",
       "40.0     83\n",
       "59.0     81\n",
       "51.0     81\n",
       "58.0     81\n",
       "55.0     80\n",
       "28.0     79\n",
       "33.0     79\n",
       "49.0     78\n",
       "38.0     78\n",
       "53.0     77\n",
       "37.0     76\n",
       "57.0     75\n",
       "61.0     75\n",
       "44.0     73\n",
       "56.0     73\n",
       "42.0     73\n",
       "27.0     73\n",
       "36.0     72\n",
       "       ... \n",
       "47.0     56\n",
       "50.0     55\n",
       "25.0     46\n",
       "24.0     46\n",
       "73.0     33\n",
       "22.0     30\n",
       "23.0     28\n",
       "21.0     23\n",
       "20.0     22\n",
       "74.0     15\n",
       "16.0     14\n",
       "19.0     14\n",
       "17.0     13\n",
       "18.0     13\n",
       "13.0     12\n",
       "15.0     10\n",
       "14.0      8\n",
       "75.0      6\n",
       "12.0      4\n",
       "6.0       4\n",
       "9.0       3\n",
       "76.0      2\n",
       "8.0       2\n",
       "7.0       1\n",
       "11.0      1\n",
       "10.0      1\n",
       "4.0       1\n",
       "0.0       1\n",
       "78.0      1\n",
       "5.0       1\n",
       "Name: TMIN, Length: 75, dtype: int64"
      ]
     },
     "execution_count": 36,
     "metadata": {},
     "output_type": "execute_result"
    }
   ],
   "source": [
    "weather['TMIN'].value_counts()"
   ]
  },
  {
   "cell_type": "code",
   "execution_count": 48,
   "metadata": {},
   "outputs": [
    {
     "data": {
      "text/plain": [
       "0.0"
      ]
     },
     "execution_count": 48,
     "metadata": {},
     "output_type": "execute_result"
    }
   ],
   "source": [
    "weather['TMIN'].min()"
   ]
  },
  {
   "cell_type": "markdown",
   "metadata": {},
   "source": [
    "## Max/Min Temperature Over Time"
   ]
  },
  {
   "cell_type": "code",
   "execution_count": 55,
   "metadata": {},
   "outputs": [],
   "source": [
    "weather['Year'] = weather['DATE'].astype(str).str[0:4]"
   ]
  },
  {
   "cell_type": "code",
   "execution_count": 56,
   "metadata": {},
   "outputs": [
    {
     "data": {
      "text/html": [
       "<div>\n",
       "<style scoped>\n",
       "    .dataframe tbody tr th:only-of-type {\n",
       "        vertical-align: middle;\n",
       "    }\n",
       "\n",
       "    .dataframe tbody tr th {\n",
       "        vertical-align: top;\n",
       "    }\n",
       "\n",
       "    .dataframe thead th {\n",
       "        text-align: right;\n",
       "    }\n",
       "</style>\n",
       "<table border=\"1\" class=\"dataframe\">\n",
       "  <thead>\n",
       "    <tr style=\"text-align: right;\">\n",
       "      <th></th>\n",
       "      <th>STATION</th>\n",
       "      <th>NAME</th>\n",
       "      <th>LATITUDE</th>\n",
       "      <th>LONGITUDE</th>\n",
       "      <th>ELEVATION</th>\n",
       "      <th>DATE</th>\n",
       "      <th>PRCP</th>\n",
       "      <th>PRCP_ATTRIBUTES</th>\n",
       "      <th>TMAX</th>\n",
       "      <th>TMAX_ATTRIBUTES</th>\n",
       "      <th>TMIN</th>\n",
       "      <th>TMIN_ATTRIBUTES</th>\n",
       "      <th>Year</th>\n",
       "    </tr>\n",
       "  </thead>\n",
       "  <tbody>\n",
       "    <tr>\n",
       "      <th>0</th>\n",
       "      <td>USW00003758</td>\n",
       "      <td>DURHAM 11 W, NC US</td>\n",
       "      <td>35.9705</td>\n",
       "      <td>-79.0931</td>\n",
       "      <td>171.3</td>\n",
       "      <td>2007-03-30</td>\n",
       "      <td>0.00</td>\n",
       "      <td>,,R</td>\n",
       "      <td>67.0</td>\n",
       "      <td>,,R</td>\n",
       "      <td>33.0</td>\n",
       "      <td>,,R</td>\n",
       "      <td>2007</td>\n",
       "    </tr>\n",
       "    <tr>\n",
       "      <th>1</th>\n",
       "      <td>USW00003758</td>\n",
       "      <td>DURHAM 11 W, NC US</td>\n",
       "      <td>35.9705</td>\n",
       "      <td>-79.0931</td>\n",
       "      <td>171.3</td>\n",
       "      <td>2007-03-31</td>\n",
       "      <td>0.00</td>\n",
       "      <td>,,R</td>\n",
       "      <td>76.0</td>\n",
       "      <td>,,R</td>\n",
       "      <td>44.0</td>\n",
       "      <td>,,R</td>\n",
       "      <td>2007</td>\n",
       "    </tr>\n",
       "    <tr>\n",
       "      <th>2</th>\n",
       "      <td>USW00003758</td>\n",
       "      <td>DURHAM 11 W, NC US</td>\n",
       "      <td>35.9705</td>\n",
       "      <td>-79.0931</td>\n",
       "      <td>171.3</td>\n",
       "      <td>2007-04-01</td>\n",
       "      <td>0.07</td>\n",
       "      <td>,,R</td>\n",
       "      <td>74.0</td>\n",
       "      <td>,,R</td>\n",
       "      <td>60.0</td>\n",
       "      <td>,,R</td>\n",
       "      <td>2007</td>\n",
       "    </tr>\n",
       "    <tr>\n",
       "      <th>3</th>\n",
       "      <td>USW00003758</td>\n",
       "      <td>DURHAM 11 W, NC US</td>\n",
       "      <td>35.9705</td>\n",
       "      <td>-79.0931</td>\n",
       "      <td>171.3</td>\n",
       "      <td>2007-04-02</td>\n",
       "      <td>0.00</td>\n",
       "      <td>,,R</td>\n",
       "      <td>80.0</td>\n",
       "      <td>,,R</td>\n",
       "      <td>59.0</td>\n",
       "      <td>,,R</td>\n",
       "      <td>2007</td>\n",
       "    </tr>\n",
       "    <tr>\n",
       "      <th>4</th>\n",
       "      <td>USW00003758</td>\n",
       "      <td>DURHAM 11 W, NC US</td>\n",
       "      <td>35.9705</td>\n",
       "      <td>-79.0931</td>\n",
       "      <td>171.3</td>\n",
       "      <td>2007-04-03</td>\n",
       "      <td>0.00</td>\n",
       "      <td>,,R</td>\n",
       "      <td>83.0</td>\n",
       "      <td>,,R</td>\n",
       "      <td>49.0</td>\n",
       "      <td>,,R</td>\n",
       "      <td>2007</td>\n",
       "    </tr>\n",
       "  </tbody>\n",
       "</table>\n",
       "</div>"
      ],
      "text/plain": [
       "       STATION                NAME  LATITUDE  LONGITUDE  ELEVATION  \\\n",
       "0  USW00003758  DURHAM 11 W, NC US   35.9705   -79.0931      171.3   \n",
       "1  USW00003758  DURHAM 11 W, NC US   35.9705   -79.0931      171.3   \n",
       "2  USW00003758  DURHAM 11 W, NC US   35.9705   -79.0931      171.3   \n",
       "3  USW00003758  DURHAM 11 W, NC US   35.9705   -79.0931      171.3   \n",
       "4  USW00003758  DURHAM 11 W, NC US   35.9705   -79.0931      171.3   \n",
       "\n",
       "         DATE  PRCP PRCP_ATTRIBUTES  TMAX TMAX_ATTRIBUTES  TMIN  \\\n",
       "0  2007-03-30  0.00             ,,R  67.0             ,,R  33.0   \n",
       "1  2007-03-31  0.00             ,,R  76.0             ,,R  44.0   \n",
       "2  2007-04-01  0.07             ,,R  74.0             ,,R  60.0   \n",
       "3  2007-04-02  0.00             ,,R  80.0             ,,R  59.0   \n",
       "4  2007-04-03  0.00             ,,R  83.0             ,,R  49.0   \n",
       "\n",
       "  TMIN_ATTRIBUTES  Year  \n",
       "0             ,,R  2007  \n",
       "1             ,,R  2007  \n",
       "2             ,,R  2007  \n",
       "3             ,,R  2007  \n",
       "4             ,,R  2007  "
      ]
     },
     "execution_count": 56,
     "metadata": {},
     "output_type": "execute_result"
    }
   ],
   "source": [
    "weather.head()"
   ]
  },
  {
   "cell_type": "code",
   "execution_count": 59,
   "metadata": {},
   "outputs": [
    {
     "data": {
      "text/plain": [
       "2016    366\n",
       "2008    365\n",
       "2011    364\n",
       "2012    364\n",
       "2010    364\n",
       "2015    364\n",
       "2014    364\n",
       "2013    364\n",
       "2009    363\n",
       "2017    360\n",
       "2007    273\n",
       "2018    249\n",
       "Name: Year, dtype: int64"
      ]
     },
     "execution_count": 59,
     "metadata": {},
     "output_type": "execute_result"
    }
   ],
   "source": [
    "weather['Year'].value_counts()"
   ]
  },
  {
   "cell_type": "code",
   "execution_count": 177,
   "metadata": {},
   "outputs": [
    {
     "name": "stdout",
     "output_type": "stream",
     "text": [
      "Year\n",
      "2007    19.0\n",
      "2008    13.0\n",
      "2009     6.0\n",
      "2010    13.0\n",
      "2011    14.0\n",
      "2012    15.0\n",
      "2013    15.0\n",
      "2014     5.0\n",
      "2015     4.0\n",
      "2016    13.0\n",
      "2017     6.0\n",
      "2018     0.0\n",
      "Name: TMIN, dtype: float64\n"
     ]
    }
   ],
   "source": [
    "min_annual_temps = weather.groupby(['Year'], sort=False)['TMIN'].min()\n",
    "print(min_annual_temps)"
   ]
  },
  {
   "cell_type": "code",
   "execution_count": 178,
   "metadata": {},
   "outputs": [],
   "source": [
    "min_annual_temps = pd.DataFrame({'Year':min_annual_temps.index, 'TMIN':min_annual_temps.values})"
   ]
  },
  {
   "cell_type": "code",
   "execution_count": 179,
   "metadata": {},
   "outputs": [
    {
     "data": {
      "text/plain": [
       "['TMIN', 'Year']"
      ]
     },
     "execution_count": 179,
     "metadata": {},
     "output_type": "execute_result"
    }
   ],
   "source": [
    "list(min_annual_temps.columns.values)"
   ]
  },
  {
   "cell_type": "code",
   "execution_count": 180,
   "metadata": {},
   "outputs": [
    {
     "data": {
      "text/html": [
       "<div>\n",
       "<style scoped>\n",
       "    .dataframe tbody tr th:only-of-type {\n",
       "        vertical-align: middle;\n",
       "    }\n",
       "\n",
       "    .dataframe tbody tr th {\n",
       "        vertical-align: top;\n",
       "    }\n",
       "\n",
       "    .dataframe thead th {\n",
       "        text-align: right;\n",
       "    }\n",
       "</style>\n",
       "<table border=\"1\" class=\"dataframe\">\n",
       "  <thead>\n",
       "    <tr style=\"text-align: right;\">\n",
       "      <th></th>\n",
       "      <th>TMIN</th>\n",
       "      <th>Year</th>\n",
       "    </tr>\n",
       "  </thead>\n",
       "  <tbody>\n",
       "    <tr>\n",
       "      <th>0</th>\n",
       "      <td>19.0</td>\n",
       "      <td>2007</td>\n",
       "    </tr>\n",
       "    <tr>\n",
       "      <th>1</th>\n",
       "      <td>13.0</td>\n",
       "      <td>2008</td>\n",
       "    </tr>\n",
       "    <tr>\n",
       "      <th>2</th>\n",
       "      <td>6.0</td>\n",
       "      <td>2009</td>\n",
       "    </tr>\n",
       "    <tr>\n",
       "      <th>3</th>\n",
       "      <td>13.0</td>\n",
       "      <td>2010</td>\n",
       "    </tr>\n",
       "    <tr>\n",
       "      <th>4</th>\n",
       "      <td>14.0</td>\n",
       "      <td>2011</td>\n",
       "    </tr>\n",
       "  </tbody>\n",
       "</table>\n",
       "</div>"
      ],
      "text/plain": [
       "   TMIN  Year\n",
       "0  19.0  2007\n",
       "1  13.0  2008\n",
       "2   6.0  2009\n",
       "3  13.0  2010\n",
       "4  14.0  2011"
      ]
     },
     "execution_count": 180,
     "metadata": {},
     "output_type": "execute_result"
    }
   ],
   "source": [
    "min_annual_temps.head()"
   ]
  },
  {
   "cell_type": "code",
   "execution_count": 145,
   "metadata": {},
   "outputs": [
    {
     "data": {
      "image/png": "[encoded data removed]",
      "text/plain": [
       "<matplotlib.figure.Figure at 0x1a1ca31240>"
      ]
     },
     "metadata": {},
     "output_type": "display_data"
    }
   ],
   "source": [
    "with sns.axes_style('darkgrid'):\n",
    "    f = sns.pointplot(x = 'Year', y = 'TMIN', data=min_annual_temps, aspect = 50, color = 'green')\n",
    "    f.set(xlabel='Year', ylabel='Temperature (°F)', title = 'Lowest Recorded Temperature in Durham: 2007-2018')"
   ]
  },
  {
   "cell_type": "code",
   "execution_count": 146,
   "metadata": {},
   "outputs": [],
   "source": [
    "fig = f.get_figure()\n",
    "fig.savefig('annual_min.png')"
   ]
  },
  {
   "cell_type": "code",
   "execution_count": 182,
   "metadata": {},
   "outputs": [
    {
     "name": "stdout",
     "output_type": "stream",
     "text": [
      "Year\n",
      "2007    103.0\n",
      "2008     96.0\n",
      "2009     96.0\n",
      "2010     99.0\n",
      "2011     98.0\n",
      "2012    100.0\n",
      "2013     91.0\n",
      "2014     98.0\n",
      "2015     96.0\n",
      "2016     95.0\n",
      "2017     97.0\n",
      "2018     94.0\n",
      "Name: TMAX, dtype: float64\n"
     ]
    }
   ],
   "source": [
    "max_annual_temps = weather.groupby(['Year'], sort=False)['TMAX'].max()\n",
    "print(max_annual_temps)"
   ]
  },
  {
   "cell_type": "code",
   "execution_count": 183,
   "metadata": {},
   "outputs": [],
   "source": [
    "max_annual_temps = pd.DataFrame({'Year':max_annual_temps.index, 'TMAX':max_annual_temps.values})"
   ]
  },
  {
   "cell_type": "code",
   "execution_count": 184,
   "metadata": {},
   "outputs": [
    {
     "data": {
      "text/html": [
       "<div>\n",
       "<style scoped>\n",
       "    .dataframe tbody tr th:only-of-type {\n",
       "        vertical-align: middle;\n",
       "    }\n",
       "\n",
       "    .dataframe tbody tr th {\n",
       "        vertical-align: top;\n",
       "    }\n",
       "\n",
       "    .dataframe thead th {\n",
       "        text-align: right;\n",
       "    }\n",
       "</style>\n",
       "<table border=\"1\" class=\"dataframe\">\n",
       "  <thead>\n",
       "    <tr style=\"text-align: right;\">\n",
       "      <th></th>\n",
       "      <th>TMAX</th>\n",
       "      <th>Year</th>\n",
       "    </tr>\n",
       "  </thead>\n",
       "  <tbody>\n",
       "    <tr>\n",
       "      <th>0</th>\n",
       "      <td>103.0</td>\n",
       "      <td>2007</td>\n",
       "    </tr>\n",
       "    <tr>\n",
       "      <th>1</th>\n",
       "      <td>96.0</td>\n",
       "      <td>2008</td>\n",
       "    </tr>\n",
       "    <tr>\n",
       "      <th>2</th>\n",
       "      <td>96.0</td>\n",
       "      <td>2009</td>\n",
       "    </tr>\n",
       "    <tr>\n",
       "      <th>3</th>\n",
       "      <td>99.0</td>\n",
       "      <td>2010</td>\n",
       "    </tr>\n",
       "    <tr>\n",
       "      <th>4</th>\n",
       "      <td>98.0</td>\n",
       "      <td>2011</td>\n",
       "    </tr>\n",
       "  </tbody>\n",
       "</table>\n",
       "</div>"
      ],
      "text/plain": [
       "    TMAX  Year\n",
       "0  103.0  2007\n",
       "1   96.0  2008\n",
       "2   96.0  2009\n",
       "3   99.0  2010\n",
       "4   98.0  2011"
      ]
     },
     "execution_count": 184,
     "metadata": {},
     "output_type": "execute_result"
    }
   ],
   "source": [
    "max_annual_temps.head()"
   ]
  },
  {
   "cell_type": "code",
   "execution_count": 150,
   "metadata": {},
   "outputs": [
    {
     "data": {
      "image/png": "[encoded data removed]",
      "text/plain": [
       "<matplotlib.figure.Figure at 0x1a1cb6efd0>"
      ]
     },
     "metadata": {},
     "output_type": "display_data"
    }
   ],
   "source": [
    "with sns.axes_style('darkgrid'):\n",
    "    g = sns.pointplot(x = 'Year', y = 'TMAX', data=max_annual_temps, aspect = 50, color = 'red')\n",
    "    g.set(xlabel='Year', ylabel='Temperature (°F)', title = 'Highest Recorded Temperature in Durham: 2007-2018')"
   ]
  },
  {
   "cell_type": "code",
   "execution_count": 151,
   "metadata": {},
   "outputs": [],
   "source": [
    "fig = g.get_figure()\n",
    "fig.savefig('annual_max.png')"
   ]
  },
  {
   "cell_type": "markdown",
   "metadata": {},
   "source": [
    "## Average Temperature"
   ]
  },
  {
   "cell_type": "code",
   "execution_count": 153,
   "metadata": {},
   "outputs": [],
   "source": [
    "# With the data that we have, we'll define average temperature by calculating the average of the min and max temperature for a day\n",
    "weather['Average'] = (weather['TMIN'] + weather['TMAX']) / 2"
   ]
  },
  {
   "cell_type": "code",
   "execution_count": 155,
   "metadata": {},
   "outputs": [
    {
     "data": {
      "image/png": "[encoded data removed]",
      "text/plain": [
       "<matplotlib.figure.Figure at 0x1a1b713cc0>"
      ]
     },
     "metadata": {},
     "output_type": "display_data"
    }
   ],
   "source": [
    "with sns.axes_style('white'):\n",
    "    h = sns.factorplot(\"Average\", data=weather, aspect=2, kind=\"count\", color='steelblue')\n",
    "    h.set(xlabel='Temperature(°F)', ylabel='Count (Days)', title = 'Average Temperature Distribution in Durham: 2007-2018')\n",
    "    h.set_xticklabels(step=10)"
   ]
  },
  {
   "cell_type": "code",
   "execution_count": 157,
   "metadata": {},
   "outputs": [],
   "source": [
    "h.savefig('average_dist.png')"
   ]
  },
  {
   "cell_type": "code",
   "execution_count": 193,
   "metadata": {},
   "outputs": [
    {
     "name": "stdout",
     "output_type": "stream",
     "text": [
      "Year\n",
      "2007    65.385185\n",
      "2008    58.484932\n",
      "2009    58.342975\n",
      "2010    59.059066\n",
      "2011    60.156593\n",
      "2012    60.273352\n",
      "2013    58.043956\n",
      "2014    57.864011\n",
      "2015    60.052198\n",
      "2016    60.465847\n",
      "2017    61.229167\n",
      "2018    61.765060\n",
      "Name: Average, dtype: float64\n"
     ]
    }
   ],
   "source": [
    "mean_annual_temps = weather.groupby(['Year'], sort=False)['Average'].mean()\n",
    "print(mean_annual_temps)"
   ]
  },
  {
   "cell_type": "code",
   "execution_count": 194,
   "metadata": {},
   "outputs": [],
   "source": [
    "mean_annual_temps = pd.DataFrame({'Year':mean_annual_temps.index, 'Average':mean_annual_temps.values})"
   ]
  },
  {
   "cell_type": "code",
   "execution_count": 195,
   "metadata": {},
   "outputs": [
    {
     "data": {
      "text/html": [
       "<div>\n",
       "<style scoped>\n",
       "    .dataframe tbody tr th:only-of-type {\n",
       "        vertical-align: middle;\n",
       "    }\n",
       "\n",
       "    .dataframe tbody tr th {\n",
       "        vertical-align: top;\n",
       "    }\n",
       "\n",
       "    .dataframe thead th {\n",
       "        text-align: right;\n",
       "    }\n",
       "</style>\n",
       "<table border=\"1\" class=\"dataframe\">\n",
       "  <thead>\n",
       "    <tr style=\"text-align: right;\">\n",
       "      <th></th>\n",
       "      <th>Average</th>\n",
       "      <th>Year</th>\n",
       "    </tr>\n",
       "  </thead>\n",
       "  <tbody>\n",
       "    <tr>\n",
       "      <th>0</th>\n",
       "      <td>65.385185</td>\n",
       "      <td>2007</td>\n",
       "    </tr>\n",
       "    <tr>\n",
       "      <th>1</th>\n",
       "      <td>58.484932</td>\n",
       "      <td>2008</td>\n",
       "    </tr>\n",
       "    <tr>\n",
       "      <th>2</th>\n",
       "      <td>58.342975</td>\n",
       "      <td>2009</td>\n",
       "    </tr>\n",
       "    <tr>\n",
       "      <th>3</th>\n",
       "      <td>59.059066</td>\n",
       "      <td>2010</td>\n",
       "    </tr>\n",
       "    <tr>\n",
       "      <th>4</th>\n",
       "      <td>60.156593</td>\n",
       "      <td>2011</td>\n",
       "    </tr>\n",
       "  </tbody>\n",
       "</table>\n",
       "</div>"
      ],
      "text/plain": [
       "     Average  Year\n",
       "0  65.385185  2007\n",
       "1  58.484932  2008\n",
       "2  58.342975  2009\n",
       "3  59.059066  2010\n",
       "4  60.156593  2011"
      ]
     },
     "execution_count": 195,
     "metadata": {},
     "output_type": "execute_result"
    }
   ],
   "source": [
    "mean_annual_temps.head()"
   ]
  },
  {
   "cell_type": "code",
   "execution_count": 196,
   "metadata": {},
   "outputs": [
    {
     "data": {
      "image/png": "[encoded data removed]",
      "text/plain": [
       "<matplotlib.figure.Figure at 0x1a1bf0c710>"
      ]
     },
     "metadata": {},
     "output_type": "display_data"
    }
   ],
   "source": [
    "with sns.axes_style('darkgrid'):\n",
    "    g = sns.pointplot(x = 'Year', y = 'Average', data=mean_annual_temps, aspect = 50, color = 'orange')\n",
    "    g.set(xlabel='Year', ylabel='Temperature (°F)', title = 'Average Temperature in Durham: 2007-2018')"
   ]
  },
  {
   "cell_type": "code",
   "execution_count": 197,
   "metadata": {},
   "outputs": [],
   "source": [
    "fig = g.get_figure()\n",
    "fig.savefig('average_years.png')"
   ]
  },
  {
   "cell_type": "markdown",
   "metadata": {},
   "source": [
    "## Merge onto one comprehensive Temperature Graph"
   ]
  },
  {
   "cell_type": "code",
   "execution_count": 198,
   "metadata": {},
   "outputs": [
    {
     "data": {
      "text/html": [
       "<div>\n",
       "<style scoped>\n",
       "    .dataframe tbody tr th:only-of-type {\n",
       "        vertical-align: middle;\n",
       "    }\n",
       "\n",
       "    .dataframe tbody tr th {\n",
       "        vertical-align: top;\n",
       "    }\n",
       "\n",
       "    .dataframe thead th {\n",
       "        text-align: right;\n",
       "    }\n",
       "</style>\n",
       "<table border=\"1\" class=\"dataframe\">\n",
       "  <thead>\n",
       "    <tr style=\"text-align: right;\">\n",
       "      <th></th>\n",
       "      <th>TMIN</th>\n",
       "      <th>Year</th>\n",
       "      <th>TMAX</th>\n",
       "    </tr>\n",
       "  </thead>\n",
       "  <tbody>\n",
       "    <tr>\n",
       "      <th>0</th>\n",
       "      <td>19.0</td>\n",
       "      <td>2007</td>\n",
       "      <td>103.0</td>\n",
       "    </tr>\n",
       "    <tr>\n",
       "      <th>1</th>\n",
       "      <td>13.0</td>\n",
       "      <td>2008</td>\n",
       "      <td>96.0</td>\n",
       "    </tr>\n",
       "    <tr>\n",
       "      <th>2</th>\n",
       "      <td>6.0</td>\n",
       "      <td>2009</td>\n",
       "      <td>96.0</td>\n",
       "    </tr>\n",
       "    <tr>\n",
       "      <th>3</th>\n",
       "      <td>13.0</td>\n",
       "      <td>2010</td>\n",
       "      <td>99.0</td>\n",
       "    </tr>\n",
       "    <tr>\n",
       "      <th>4</th>\n",
       "      <td>14.0</td>\n",
       "      <td>2011</td>\n",
       "      <td>98.0</td>\n",
       "    </tr>\n",
       "  </tbody>\n",
       "</table>\n",
       "</div>"
      ],
      "text/plain": [
       "   TMIN  Year   TMAX\n",
       "0  19.0  2007  103.0\n",
       "1  13.0  2008   96.0\n",
       "2   6.0  2009   96.0\n",
       "3  13.0  2010   99.0\n",
       "4  14.0  2011   98.0"
      ]
     },
     "execution_count": 198,
     "metadata": {},
     "output_type": "execute_result"
    }
   ],
   "source": [
    "merged = pd.merge(min_annual_temps, max_annual_temps, on = 'Year')\n",
    "merged.head()"
   ]
  },
  {
   "cell_type": "code",
   "execution_count": 199,
   "metadata": {},
   "outputs": [
    {
     "data": {
      "text/html": [
       "<div>\n",
       "<style scoped>\n",
       "    .dataframe tbody tr th:only-of-type {\n",
       "        vertical-align: middle;\n",
       "    }\n",
       "\n",
       "    .dataframe tbody tr th {\n",
       "        vertical-align: top;\n",
       "    }\n",
       "\n",
       "    .dataframe thead th {\n",
       "        text-align: right;\n",
       "    }\n",
       "</style>\n",
       "<table border=\"1\" class=\"dataframe\">\n",
       "  <thead>\n",
       "    <tr style=\"text-align: right;\">\n",
       "      <th></th>\n",
       "      <th>TMIN</th>\n",
       "      <th>Year</th>\n",
       "      <th>TMAX</th>\n",
       "      <th>Average</th>\n",
       "    </tr>\n",
       "  </thead>\n",
       "  <tbody>\n",
       "    <tr>\n",
       "      <th>0</th>\n",
       "      <td>19.0</td>\n",
       "      <td>2007</td>\n",
       "      <td>103.0</td>\n",
       "      <td>65.385185</td>\n",
       "    </tr>\n",
       "    <tr>\n",
       "      <th>1</th>\n",
       "      <td>13.0</td>\n",
       "      <td>2008</td>\n",
       "      <td>96.0</td>\n",
       "      <td>58.484932</td>\n",
       "    </tr>\n",
       "    <tr>\n",
       "      <th>2</th>\n",
       "      <td>6.0</td>\n",
       "      <td>2009</td>\n",
       "      <td>96.0</td>\n",
       "      <td>58.342975</td>\n",
       "    </tr>\n",
       "    <tr>\n",
       "      <th>3</th>\n",
       "      <td>13.0</td>\n",
       "      <td>2010</td>\n",
       "      <td>99.0</td>\n",
       "      <td>59.059066</td>\n",
       "    </tr>\n",
       "    <tr>\n",
       "      <th>4</th>\n",
       "      <td>14.0</td>\n",
       "      <td>2011</td>\n",
       "      <td>98.0</td>\n",
       "      <td>60.156593</td>\n",
       "    </tr>\n",
       "  </tbody>\n",
       "</table>\n",
       "</div>"
      ],
      "text/plain": [
       "   TMIN  Year   TMAX    Average\n",
       "0  19.0  2007  103.0  65.385185\n",
       "1  13.0  2008   96.0  58.484932\n",
       "2   6.0  2009   96.0  58.342975\n",
       "3  13.0  2010   99.0  59.059066\n",
       "4  14.0  2011   98.0  60.156593"
      ]
     },
     "execution_count": 199,
     "metadata": {},
     "output_type": "execute_result"
    }
   ],
   "source": [
    "merged = pd.merge(merged, mean_annual_temps, on = 'Year')\n",
    "merged.head()"
   ]
  },
  {
   "cell_type": "code",
   "execution_count": 238,
   "metadata": {},
   "outputs": [
    {
     "data": {
      "image/png": "[encoded data removed]",
      "text/plain": [
       "<matplotlib.figure.Figure at 0x1a1cfcb438>"
      ]
     },
     "metadata": {},
     "output_type": "display_data"
    }
   ],
   "source": [
    "with sns.axes_style('darkgrid'):\n",
    "    g = sns.pointplot(x = 'Year', y = 'TMIN', data=merged, aspect = 50, color = 'green', label = 'Minimum Temperature')\n",
    "    h = sns.pointplot(x = 'Year', y = 'TMAX', data=merged, aspect = 50, color = 'red', label = 'Maximum Temperature')\n",
    "    f = sns.pointplot(x = 'Year', y = 'Average', data=merged, aspect = 50, color = 'orange', label = 'Average Temperature')\n",
    "    f.set(xlabel='Year', ylabel='Temperature (°F)', title = 'Temperatures in Durham: 2007-2018', label = 'Average Temperature')\n",
    "    f.legend(handles=f.lines[::len(merged)+1], labels=[\"Minimum Temperature\",\"Maximum Temperature\",\"Average Temperature\"])\n",
    "    #f.set_xticklabels([t.get_text().split(\"T\")[0] for t in f.get_xticklabels()])\n",
    "    plt.gcf().autofmt_xdate(-1)\n",
    "\n",
    "    plt.show()"
   ]
  },
  {
   "cell_type": "code",
   "execution_count": 240,
   "metadata": {},
   "outputs": [],
   "source": [
    "fig = f.get_figure()\n",
    "fig.savefig('temp.png')"
   ]
  },
  {
   "cell_type": "markdown",
   "metadata": {},
   "source": [
    "## Precipitation "
   ]
  },
  {
   "cell_type": "code",
   "execution_count": 164,
   "metadata": {},
   "outputs": [
    {
     "name": "stdout",
     "output_type": "stream",
     "text": [
      "Year\n",
      "2007    2.89\n",
      "2008    5.29\n",
      "2009    2.54\n",
      "2010    4.11\n",
      "2011    1.68\n",
      "2012    2.57\n",
      "2013    3.01\n",
      "2014    4.20\n",
      "2015    3.39\n",
      "2016    4.62\n",
      "2017    3.19\n",
      "2018    2.78\n",
      "Name: PRCP, dtype: float64\n"
     ]
    }
   ],
   "source": [
    "precip = weather.groupby(['Year'], sort=False)['PRCP'].max()\n",
    "print(precip)"
   ]
  },
  {
   "cell_type": "code",
   "execution_count": 165,
   "metadata": {},
   "outputs": [],
   "source": [
    "precip = pd.DataFrame({'Year':precip.index, 'PRCP':precip.values})"
   ]
  },
  {
   "cell_type": "code",
   "execution_count": 166,
   "metadata": {},
   "outputs": [
    {
     "data": {
      "text/html": [
       "<div>\n",
       "<style scoped>\n",
       "    .dataframe tbody tr th:only-of-type {\n",
       "        vertical-align: middle;\n",
       "    }\n",
       "\n",
       "    .dataframe tbody tr th {\n",
       "        vertical-align: top;\n",
       "    }\n",
       "\n",
       "    .dataframe thead th {\n",
       "        text-align: right;\n",
       "    }\n",
       "</style>\n",
       "<table border=\"1\" class=\"dataframe\">\n",
       "  <thead>\n",
       "    <tr style=\"text-align: right;\">\n",
       "      <th></th>\n",
       "      <th>PRCP</th>\n",
       "      <th>Year</th>\n",
       "    </tr>\n",
       "  </thead>\n",
       "  <tbody>\n",
       "    <tr>\n",
       "      <th>0</th>\n",
       "      <td>2.89</td>\n",
       "      <td>2007</td>\n",
       "    </tr>\n",
       "    <tr>\n",
       "      <th>1</th>\n",
       "      <td>5.29</td>\n",
       "      <td>2008</td>\n",
       "    </tr>\n",
       "    <tr>\n",
       "      <th>2</th>\n",
       "      <td>2.54</td>\n",
       "      <td>2009</td>\n",
       "    </tr>\n",
       "    <tr>\n",
       "      <th>3</th>\n",
       "      <td>4.11</td>\n",
       "      <td>2010</td>\n",
       "    </tr>\n",
       "    <tr>\n",
       "      <th>4</th>\n",
       "      <td>1.68</td>\n",
       "      <td>2011</td>\n",
       "    </tr>\n",
       "  </tbody>\n",
       "</table>\n",
       "</div>"
      ],
      "text/plain": [
       "   PRCP  Year\n",
       "0  2.89  2007\n",
       "1  5.29  2008\n",
       "2  2.54  2009\n",
       "3  4.11  2010\n",
       "4  1.68  2011"
      ]
     },
     "execution_count": 166,
     "metadata": {},
     "output_type": "execute_result"
    }
   ],
   "source": [
    "precip.head()"
   ]
  },
  {
   "cell_type": "code",
   "execution_count": 170,
   "metadata": {},
   "outputs": [
    {
     "data": {
      "image/png": "[encoded data removed]",
      "text/plain": [
       "<matplotlib.figure.Figure at 0x1a1cfbfa90>"
      ]
     },
     "metadata": {},
     "output_type": "display_data"
    }
   ],
   "source": [
    "with sns.axes_style('darkgrid'):\n",
    "    g = sns.pointplot(x = 'Year', y = 'PRCP', data=precip, aspect = 50, color = 'purple')\n",
    "    g.set(xlabel='Year', ylabel='Precipitation (inches)', title = 'Highest Recorded Single-Day Precipitation in Durham: 2007-2018')"
   ]
  },
  {
   "cell_type": "code",
   "execution_count": 171,
   "metadata": {},
   "outputs": [],
   "source": [
    "fig = g.get_figure()\n",
    "fig.savefig('precip.png')"
   ]
  }
 ],
 "metadata": {
  "kernelspec": {
   "display_name": "Python 3",
   "language": "python",
   "name": "python3"
  },
  "language_info": {
   "codemirror_mode": {
    "name": "ipython",
    "version": 3
   },
   "file_extension": ".py",
   "mimetype": "text/x-python",
   "name": "python",
   "nbconvert_exporter": "python",
   "pygments_lexer": "ipython3",
   "version": "3.6.4"
  }
 },
 "nbformat": 4,
 "nbformat_minor": 2
}
